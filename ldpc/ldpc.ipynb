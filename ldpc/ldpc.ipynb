{
 "cells": [
  {
   "cell_type": "markdown",
   "metadata": {},
   "source": [
    "# LDPC codes (tutorial)\n",
    "## M.Sc. Vladimir Fadeev\n",
    "### Kazan, 2021"
   ]
  },
  {
   "cell_type": "markdown",
   "metadata": {},
   "source": [
    "## Block codes encoding basics \n",
    "\n",
    "LDPC codes are linear block codes, which means that the *check bits* are added at the end of information messages  (as a block).\n",
    "\n",
    "The encoding procedure is the multiplication of message vector and Generator matrix:\n",
    "\n",
    "$$ \\underset{1\\times N} {\\mathbf{a}} = \\underset{1\\times K} {\\mathbf{u}} \\otimes  \\underset{K\\times N} {\\mathbf{G}}\\qquad (1)  $$\n",
    "\n",
    "where $ \\mathbf{u} $ is the input message, and $ \\mathbf{a} $ is the code word, $\\otimes$ denotes multiplication by modulo $q$, where $q$ is a Galois Field parameter: $GF(q = 2^p)$ (obviously, for binary case $q$ is equal to 2).\n",
    "\n",
    "Accordingly, the code rate is also specified via the generating matrix:\n",
    "\n",
    "<img src=\"https://habrastorage.org/webt/jq/im/zq/jqimzqtfegyfgbce2h9wqr6gswg.png\" width=\"800\" />\n",
    "\n",
    "Generator matrix consists of two contatenated matrices:\n",
    "\n",
    "$$ \\underset{K\\times N} {\\mathbf{G}} = \\left[ \\underset{K\\times K} {\\mathbf{I}} \\qquad  \\underset{K\\times (N-K)} {\\mathbf{-P}}\\right] \\qquad (2)$$\n",
    "\n",
    "where $\\mathbf{P}$ is the *parity part*, and $ \\mathbf{I} $ is the *identity matrix*. Note, the **identity part** is needed to keep the code **systematic**: the information message remains unchanged, and the check bits are added to the end of the block. A correctly restored codeword can restore the original message by simply removing the checked bits. Convenient, isn't it?\n",
    "\n",
    "Since we are talking about **linear block codes**, the generator matrix should provide this linearity (see. [Linear code](https://en.wikipedia.org/wiki/Linear_code#:~:text=In%20coding%20theory%2C%20a%20linear,hybrid%20of%20these%20two%20types.)). This means that the rows of the generator matrix must be **linearly independent** (yes, it sounds a little paradoxical)."
   ]
  },
  {
   "cell_type": "markdown",
   "metadata": {},
   "source": [
    "The generator matrix is directly related to another important matrix, which used in decoding procedure: **Parity Check matrix**. Parity-check matrix has $(N−K)$ rows and $N$ columns, where $N$ corresponds to desired length of codeword and $K$ corresponds to the length of the message:\n",
    "\n",
    "$$ \\underset{(N-K)\\times N} {\\mathbf{H}} = \\left[ \\underset{(N-K)\\times K} {\\mathbf{P}^T} \\qquad  \\underset{(N-K)\\times (N-K)} {\\mathbf{I}}\\right] \\qquad(3)$$\n",
    "\n",
    "The main idea can be well explained via the [Tanner graph](https://en.wikipedia.org/wiki/Tanner_graph#Tanner_graphs_for_linear_block_codes):\n",
    "\n",
    "![](https://habrastorage.org/webt/7c/l-/ub/7cl-ubcrityadm0k5s_bbktdjso.png)\n",
    "\n",
    "There are two types of nodes: \n",
    "- **variable nodes**, the number of which correspond to the number of columns $K$, and \n",
    "- **check nodes**, corresponding to the number of rows $(N - K)$. \n",
    "\n",
    "The nodes are interconnected, and the relationship is determined by the position of units in the matrix $\\mathbf{H}$. \n",
    "\n",
    "The picture on the right is my own mnemonics of my own production. It seems to me that this is the easiest way to catch the essence of the structure: \n",
    "- if the matrix element is 1, then there is a connection between nodes, \n",
    "- if it is 0, there is no connection.\n",
    "\n",
    "In order to consider the decoding procedure successful, it is necessary that certain values are formed on all test nodes - as a rule, zeros (see [decoding based on syndromes](https://en.wikipedia.org/wiki/Decoding_methods#Syndrome_decoding)):\n",
    "\n",
    "$$ \\mathbf{s} = \\mathbf{H}\\mathbf{x} = \\mathbf{0} \\qquad(4)$$\n",
    "\n",
    "Actually, this matrix defines the last two letters in the abbreviation LD**PC** (Parity-Check)."
   ]
  },
  {
   "cell_type": "markdown",
   "metadata": {},
   "source": [
    "## LDPC encoding basics\n",
    "\n",
    "But all of the above are common points for most of block codes. How then are LDPCs different from the, for example, Hamming codes?\n",
    "\n",
    "\n",
    "In general, by what defines them as **low-density**: their parity check matrices must be sparce:\n",
    "\n",
    "> \"Low density parity check codes are codes specified by a parity check matrix containing mostly zeros and only small number of ones.\" [\\[1\\]](https://dspace.mit.edu/bitstream/handle/1721.1/11804/32786367-MIT.pdf?sequence=2)\n",
    "\n",
    "Yes, that’s so simple.\n",
    "\n",
    "\n",
    "For example, **Gallagher** have proposed this matrix:\n",
    "\n",
    "<img src=\"https://habrastorage.org/webt/ed/cz/nt/edczntggcntmubzhbuom6iq4tgo.png\" width=\"400\" />\n",
    "\n",
    "**(3,4)** - **regular** parity check matrix with a length of 12. \n",
    "\n",
    "Explanation: \n",
    "- a codeword that will be encoded using code which based on this matrix will have a length of 12 bits; \n",
    "- there are 3 ones in each column, and there 4 ones in each row (hence (3,4)); \n",
    "- the number of ones in rows and columns are constants (in our case 3 and 4), which means the code is regular.\n",
    "\n",
    "**Mackay and Neal** described a parity check matrix like this:\n",
    "\n",
    "<img src=\"https://habrastorage.org/webt/gc/ce/l4/gccel4srlihwulfcj57tctazt24.png\" width=\"400\" />\n",
    "\n",
    "**(3,4)** - **regular** parity check matrix with a length of 12. \n",
    "\n",
    "> **NOTE**:\n",
    ">\n",
    "> In the DVB-S2 standard **irregular** parity check matrices are used:\n",
    ">\n",
    "> *Eroz M., Sun F. W., Lee L. N. [DVB‐S2 low density parity check codes with near Shannon limit performance](http://www.iet.unipi.it/m.luise/DVB-S2_Low-Density.pdf) //International Journal of Satellite Communications and Networking. – 2004. – Т. 22. – №. 3. – С. 269-279.*\n",
    ">\n",
    "> This corresponds to better noise immunity of irregular codes.\n",
    "\n",
    "However, you don’t notice anything? That's right: these matrices do not fall under the standard form from formula (3), because for LDPC codes we strive to make check matrices sparse. And if the verification matrices do not fall into the standard form, then it is not entirely clear how to generate generating matrices for them.\n",
    "\n",
    "\n",
    "The answer, of course, is (and not one). Suppose this: the original matrix $\\mathbf{H}$ is brought to the standard form using the Gaussian elimination method, the generating matrix is obtained from the standard form, and it is used for encoding.\n",
    "\n"
   ]
  },
  {
   "cell_type": "markdown",
   "metadata": {},
   "source": [
    "## Example\n",
    "\n",
    "Here is an example from this teaching material:\n",
    "\n",
    "> Johnson, S. J. (2006). [Introducing low-density parity-check codes](https://www.researchgate.net/publication/228977165_Introducing_Low-Density_Parity-Check_Codes). University of Newcastle, Australia, V1.\n",
    "\n",
    "Let us start from the following matrix $\\mathbf{H}$:"
   ]
  },
  {
   "cell_type": "code",
   "execution_count": 1,
   "metadata": {},
   "outputs": [],
   "source": [
    "import numpy as np\n",
    "\n",
    "H = np.array([[1, 1, 0, 1, 1, 0, 0, 1, 0, 0],\\\n",
    "              [0, 1, 1, 0, 1, 1, 1, 0 ,0 ,0],\\\n",
    "              [0, 0, 0, 1, 0, 0, 0, 1, 1, 1],\\\n",
    "              [1, 1, 0, 0, 0, 1, 1, 0, 1, 0],\\\n",
    "              [0, 0, 1, 0, 0, 1, 0, 1, 0, 1]])"
   ]
  },
  {
   "cell_type": "markdown",
   "metadata": {},
   "source": [
    "From this, by moving and transforming the rows by modulo 2, as well as moving the columns, we moved to the matrix $\\mathbf{H}_{std}$:"
   ]
  },
  {
   "cell_type": "code",
   "execution_count": 2,
   "metadata": {},
   "outputs": [],
   "source": [
    "Hstd = np.array([[0, 1, 1, 1, 0, 1, 0, 0, 0, 0],\\\n",
    "                 [1, 0, 1, 0, 0, 0, 1, 0 ,0 ,0],\\\n",
    "                 [1, 0, 1, 0, 1, 0, 0, 1, 0, 0],\\\n",
    "                 [0, 0, 1, 1, 1, 0, 0, 0, 1, 0],\\\n",
    "                 [1, 1, 0, 0, 1, 0, 0, 0, 0, 1]])"
   ]
  },
  {
   "cell_type": "markdown",
   "metadata": {},
   "source": [
    "<img src=\"https://habrastorage.org/webt/as/2o/6g/as2o6g0cu6wtesk41xcbuegbgke.png\" width=\"500\"/>\n",
    "\n",
    "Transformations with rows from the point of view of linear algebra do not affect the code word, but column movements need to be remembered:"
   ]
  },
  {
   "cell_type": "code",
   "execution_count": 3,
   "metadata": {},
   "outputs": [],
   "source": [
    "idx = [5, 6, 7, 8, 9, 0, 1, 2, 3, 4]"
   ]
  },
  {
   "cell_type": "markdown",
   "metadata": {},
   "source": [
    "Then form the generating matrix:"
   ]
  },
  {
   "cell_type": "code",
   "execution_count": 4,
   "metadata": {},
   "outputs": [
    {
     "name": "stdout",
     "output_type": "stream",
     "text": [
      "Generator matrix:\n",
      " [[1. 0. 0. 0. 0. 0. 1. 1. 0. 1.]\n",
      " [0. 1. 0. 0. 0. 1. 0. 0. 0. 1.]\n",
      " [0. 0. 1. 0. 0. 1. 1. 1. 1. 0.]\n",
      " [0. 0. 0. 1. 0. 1. 0. 0. 1. 0.]\n",
      " [0. 0. 0. 0. 1. 0. 0. 1. 1. 1.]]\n"
     ]
    }
   ],
   "source": [
    "M = np.shape(H)[0] # N-K\n",
    "N = np.shape(H)[1] \n",
    "K = N - M\n",
    "\n",
    "G = np.concatenate([np.eye(K), ((-1)*Hstd[:, :K].T %2)], axis=1)\n",
    "print(\"Generator matrix:\\n %s\" % str(G))"
   ]
  },
  {
   "cell_type": "markdown",
   "metadata": {},
   "source": [
    "<img src=\"https://habrastorage.org/webt/5g/u9/d6/5gu9d67jx3onkhfkaz527xfcqjg.png\" width=\"400\" />\n",
    "\n",
    "Create a codeword:"
   ]
  },
  {
   "cell_type": "code",
   "execution_count": 5,
   "metadata": {},
   "outputs": [
    {
     "name": "stdout",
     "output_type": "stream",
     "text": [
      "[1. 0. 1. 0. 1. 1. 0. 1. 0. 0.]\n"
     ]
    }
   ],
   "source": [
    "c = np.array([1, 0, 1, 0, 1]) @ G %2\n",
    "print(str(c))"
   ]
  },
  {
   "cell_type": "markdown",
   "metadata": {},
   "source": [
    "And we check the syndrome (that is, we encoded the word with a matrix derived from $\\mathbf{H}_{std}$, and in the decoding process we will use the sparse matrix $\\mathbf{H}$):"
   ]
  },
  {
   "cell_type": "code",
   "execution_count": 6,
   "metadata": {},
   "outputs": [
    {
     "data": {
      "text/plain": [
       "array([0., 0., 0., 0., 0.])"
      ]
     },
     "execution_count": 6,
     "metadata": {},
     "output_type": "execute_result"
    }
   ],
   "source": [
    "c[idx] @ H.T %2"
   ]
  },
  {
   "cell_type": "markdown",
   "metadata": {},
   "source": [
    "The magic of linear algebra works!\n",
    "\n",
    "Concluding the section, it must be said that such a coding method is the easiest to understand, but very difficult to calculate in the case of large matrices - the generating matrix, as a rule, ceases to be discharged. Of course, all this has its own decisions, however, this is a completely different story..."
   ]
  },
  {
   "cell_type": "markdown",
   "metadata": {},
   "source": [
    "## LDPC decoding: Sum-product algorithm"
   ]
  },
  {
   "cell_type": "markdown",
   "metadata": {},
   "source": [
    "A lot of decoding algorithms exist for the LDPC codes, but we will consider well-known **sum-product algorithm** (SPA or belief propagation algorithm) [\\[3, p.31\\]](https://www.researchgate.net/publication/228977165_Introducing_Low-Density_Parity-Check_Codes) with some references to matrix representation during this work. \n",
    "\n",
    "First of all, assume that from the channel we have some noisy values that can be represented as soft values after demodulation - Loglikelihood ratios (LLRs):\n",
    "\n",
    "$$\n",
    "r = \\ln \\left( \\frac{p(x=0)}{p(x=1)}\\right)  = \\ln \\left(\\frac{1 - p}{p} \\right) \\qquad (4)\n",
    "$$\n",
    "\n",
    "where $p$ denotes probability and $x$ denotes some event.\n",
    "\n",
    "Actually, the decoding procedure can be imagined as transfer of certain probabilities from Variable nodes to Check nodes (V2C message) and vice versa (C2V message). At the first step LLRs correspond to *a priori probabilities*. The SPA aims to maximaze *a posteriori probabilities*, hence the SPA is one of the maximum a posteriori probability (MAP) algorithms.  "
   ]
  },
  {
   "cell_type": "markdown",
   "metadata": {},
   "source": [
    "### The first iteration (initialization)\n",
    "\n",
    "The initial point for **V2C** message at the first iteration is the one-rank matrix of the LLRs: \n",
    "\n",
    "$$\n",
    "\\underset{M\\times N} {\\mathbf{M}} = \\left(\\underset{N\\times 1} {\\mathbf{r}} \\cdot \\underset{1\\times M} {\\mathbf{1}} \\right)^T  \\odot \\underset{M\\times N} {\\mathbf{H}} \\qquad (5)\n",
    "$$\n",
    "\n",
    "where $\\mathbf{1}$ is the matrix or vector of ones, and $\\odot$ denotes Hadamard (element-wise) product. "
   ]
  },
  {
   "cell_type": "markdown",
   "metadata": {},
   "source": [
    "> **NOTE #1:**\n",
    "> \n",
    "> One-rank matrix can be replaced by the iterative Hadamard multiplication of the LLR's vector and columns of Parity-Check matrix (additional loop).  "
   ]
  },
  {
   "cell_type": "markdown",
   "metadata": {},
   "source": [
    "### Variable-to-Check message"
   ]
  },
  {
   "cell_type": "markdown",
   "metadata": {},
   "source": [
    "Then algorithm requires to process **V2C** message in probability domain using relation between [hyperbolic tangents](http://wwwf.imperial.ac.uk/metric/metric_public/functions_and_graphs/hyperbolic_functions/inverses.html) and natural logarithm [\\[3, p.32\\]](https://www.researchgate.net/publication/228977165_Introducing_Low-Density_Parity-Check_Codes). Procedure of transmission **V2C** message is multiplication (for probabilities) of non-zero elements in each row:\n",
    "\n",
    "$$ E_{j,i} = log \\left( \\frac{1 + \\prod_{i'\\epsilon B_j, i' \\neq i} tanh(M_{j,i'}/2)}{1 - \\prod_{i'\\epsilon B_j, i' \\neq i} tanh(M_{j,i'}/2)} \\right) = log \\left( \\frac{1 + \\prod_{i'\\epsilon B_j, i' \\neq i} M'_{j,i'}}{1 - \\prod_{i'\\epsilon B_j, i' \\neq i} M'_{j,i'}} \\right) \\qquad(7)$$\n",
    "\n",
    "where $j$ is the number of the certain row, $i$ is the number of the certain column,   $B_{j}$ is the set of the non-zero elements in $j$-th row, and $i'\\neq i$ means that we exlude $i$-th variable node from the consideration.\n",
    "\n",
    "<img src=\"https://habrastorage.org/webt/ig/ub/jn/igubjn0ixl-zjjok4l3kz2yoo5y.png\" width=\"500\"/>\n",
    "\n",
    "*Fig. 2. The illustration of the V2C message passing.*"
   ]
  },
  {
   "cell_type": "markdown",
   "metadata": {},
   "source": [
    "> **NOTE #2:**\n",
    ">\n",
    "> To reduce number of condition checks (such as: zero or non-zero element, i-th element or not) the following mathematical hint can be used:\n",
    ">\n",
    "> 1) Replace all of the corresponding to Parity-Check matrix structure zeros by ones: \n",
    "> $$ \\mathbf{M}'' =  \\mathbf{M}' + \\mathbf{H}'  $$\n",
    "> where $\\mathbf{H}' = \\mathbf{H}+ \\mathbf{1}$ is the \"mirror\" of the Parity-Check matrix\n",
    ">\n",
    "> 2) Multiply all of the elements and divide the result by the $i$-th element:\n",
    "> $$ E_{j,i}' = log \\left( \\frac {1 + \\frac{1}{M\"_{j,i}} \\prod_{i} M''_{j,i}} {1 - \\frac{1}{M\"_{j,i}} \\prod_{i} M''_{j,i}} \\right)  $$\n",
    ">\n",
    "> 3) Keep the structure of the Parity-Check matrix:\n",
    "> $$ \\mathbf{E} = \\mathbf{E}' \\odot \\mathbf{H} $$\n",
    "> \n",
    "> This solution can be appropriate for the small study modeling tasks, however, additional calculations may significantly increase simulation time for the large Parity-Check matrices."
   ]
  },
  {
   "cell_type": "markdown",
   "metadata": {},
   "source": [
    "### Check-to-Variable message\n",
    "\n",
    "At the end of the first iteration the LLRs from the channel should be updated. For this purpose we sum up the information of rows in matrix $\\mathbf{E}$.\n",
    "\n",
    "$$\n",
    "l_i = r_i + \\sum_{j\\epsilon A_i}E_{j,i} \\qquad(8)\n",
    "$$\n",
    "\n",
    "where $A_i$ is the set of the coresponding to Parity-Check matrix non-zero elements in $i$-th column. \n",
    "\n",
    "> **NOTE #3:**\n",
    ">\n",
    "> The summation of all of the column elements can be applied with the same mathematical sense since the zero-elements do not contribute to the addition. \n",
    "> $$ \\mathbf{l} = \\mathbf{r} + \\left(\\sum\\mathbf{E}_{j}\\right)^T $$\n",
    "> The same problems may occure as in the **Note #2**."
   ]
  },
  {
   "cell_type": "markdown",
   "metadata": {},
   "source": [
    "After that we map up-to-date LLRs to binary symbol by the rule:\n",
    "\n",
    "$$\n",
    "z_i = \n",
    "\\begin{cases}\n",
    "0 &\\text{if $l_i \\geq 0$}\\\\\n",
    "1 &\\text{if $l_i < 0$}\n",
    "\\end{cases} \\qquad(9)\n",
    "$$"
   ]
  },
  {
   "cell_type": "markdown",
   "metadata": {},
   "source": [
    "Then necessary condition should be checked:\n",
    "\n",
    "$$\n",
    "\\underset{M\\times 1} {\\mathbf{s}} = \\underset{M\\times N} {\\mathbf{H}} \\otimes \\underset{N\\times 1} {\\mathbf{z}} = \n",
    "\\begin{cases}\n",
    "\\mathbf{0} &\\text{then stop decoding}\\\\\n",
    "\\text{non-zero vector} &\\text{then continue decoding}\n",
    "\\end{cases} \\qquad (10)\n",
    "$$"
   ]
  },
  {
   "cell_type": "markdown",
   "metadata": {},
   "source": [
    "If the syndrome $\\mathbf{s}$ is not the zero-vector decoding should be continued. Therefore, matrix $\\mathbf{M}$ should be recalculated:\n",
    "\n",
    "$$\n",
    "M_{j,i} = \\sum_{j'\\epsilon A_i, j'\\neq j} E_{j',i} + r_i \\qquad (11)\n",
    "$$\n",
    "\n",
    "<img src=\"https://habrastorage.org/webt/nc/ub/vr/ncubvrajbvownowoxa0ulb_kpbq.png\" width=\"500\"/>\n",
    "\n",
    "*Fig. 3. The illustration of the C2V message passing.*\n",
    "\n",
    "> **NOTE #4:**\n",
    ">\n",
    "> The similar logic as in the **Note 2** and **3** can be applied:\n",
    "> $$ M_{ij} = r_j - E_{ij} + \\sum_{j} E_{ij} $$\n",
    "> The same problems may occure.\n",
    "\n",
    "\n",
    "\n",
    "After that the second iteration should follow. Idealy, we have to repeat iterations while $\\mathbf{s}$ is a non-zero vector."
   ]
  },
  {
   "cell_type": "code",
   "execution_count": 7,
   "metadata": {},
   "outputs": [],
   "source": [
    "import numpy as np\n",
    "\n",
    "\n",
    "class SPA:\n",
    "    \"\"\" This class can apply SPA algorithm to received LLR vector r.\n",
    "    \n",
    "    Parameters\n",
    "    ----------\n",
    "    H: numpy.array\n",
    "        Parity-Check matrix.\n",
    "    Imax: int, optional\n",
    "        Maximum number of iterations.\n",
    "    trace_on: bool, optional\n",
    "        To print or not to print intermediate results of calculations.\n",
    "    \n",
    "    Attributes\n",
    "    ----------\n",
    "    H: 2D numpy.array\n",
    "        Parity-Check matrix.\n",
    "    Imax: int\n",
    "        Maximum number of iterations.\n",
    "    trace_on: bool\n",
    "        To print or not to print intermediate results of calculations.\n",
    "    H_0: int\n",
    "        Number of rows of the Parity-Check matrix.\n",
    "    H_1: int\n",
    "        Number of columns of the Parity-Check matrix.\n",
    "    H_mirr: 2D numpy.array:\n",
    "        'Mirror' of the Parity-Check matrix.\n",
    "    \"\"\"\n",
    "    \n",
    "    def __init__(self, H, Imax=1000, trace_on=True):\n",
    "        self.H = H\n",
    "        self.Imax = Imax\n",
    "        self.trace_on = trace_on\n",
    "        self.H_0 = np.shape(H)[0]\n",
    "        self.H_1 = np.shape(H)[1]\n",
    "        self.H_mirr = (self.H + np.ones(np.shape(self.H))) %2\n",
    "\n",
    "    def __nrz(self, l):\n",
    "        \"\"\"Applies inverse NRZ \n",
    "        \n",
    "        Parameters\n",
    "        ----------\n",
    "        l: 1D numpy.array\n",
    "            LLR vector.\n",
    "        \n",
    "        Returns\n",
    "        -------\n",
    "        l: 1D numpy.array\n",
    "            Mapped to binary symbols input vector.\n",
    "        \"\"\"\n",
    "        \n",
    "        for idx, l_j in enumerate(l):\n",
    "            if l_j >= 0:\n",
    "                l[idx] = 0\n",
    "            else:\n",
    "                l[idx] = 1\n",
    "        return l\n",
    "\n",
    "    def __calc_E(self, E, M):\n",
    "        \"\"\" Calculates V2C message \n",
    "        \n",
    "        Parameters\n",
    "        ----------\n",
    "        E: 2D numpy.array\n",
    "            Current V2C matrix.\n",
    "        M: 2D numpy.array\n",
    "            Current C2V matrix.\n",
    "        \n",
    "        Returns\n",
    "        -------\n",
    "        E: 2D numpy.array\n",
    "            Updated V2C matrix.\n",
    "        \"\"\"\n",
    "        \n",
    "        M = np.tanh(M / 2) + self.H_mirr\n",
    "        for j in range(self.H_0):\n",
    "            for i in range(self.H_1):\n",
    "                if self.H[j,i] != 0:\n",
    "                    E[j,i] = np.log(( 1 + np.prod(M[j,:]) \\\n",
    "                                     / M[j,i]) / ( 1 - np.prod(M[j,:]) / M[j,i]) )\n",
    "        return E\n",
    "\n",
    "    def __calc_M(self, M, E, r):\n",
    "        \"\"\" Calculates C2V message \n",
    "        \n",
    "        Parameters\n",
    "        ----------\n",
    "        M: 2D numpy.array\n",
    "            Current C2V matrix.\n",
    "        E: 2D numpy.array\n",
    "            Current V2C matrix.\n",
    "        r: 1D numpy.array\n",
    "            Input LLR vector.\n",
    "        \n",
    "        Returns\n",
    "        -------\n",
    "        M: 2D numpy.array\n",
    "            Updated C2V matrix.\n",
    "        \"\"\"\n",
    "        \n",
    "        for j in range(self.H_0):\n",
    "            for i in range(self.H_1):\n",
    "                if self.H[j,i] != 0:\n",
    "                    M[j,i] = np.sum(E[:, i]) - E[j,i] + r[i]\n",
    "        M = M*H \n",
    "        return M\n",
    "\n",
    "    def decode(self, r):\n",
    "        \n",
    "        \"\"\"Applies SPA algorithm to received LLR vector r.\n",
    "    \n",
    "        Parameters\n",
    "        ----------\n",
    "        r: numpy.array of floats\n",
    "            received from demodulator LLR vector.\n",
    "        \n",
    "        Returns\n",
    "        -------\n",
    "        l: numpy.array\n",
    "            Decoded message.\n",
    "\n",
    "        \"\"\"\n",
    "        stop = False # stopping flag\n",
    "        I = 0 # maximum number of iterations\n",
    "        M = np.zeros(np.shape(H)) # C2V\n",
    "        E = np.zeros(np.shape(H)) # V2C\n",
    "        l = np.zeros(np.shape(r)) # LLR vector -> decoded message\n",
    "        print('H:\\n'+str(H))\n",
    "        \n",
    "        while stop == False and I != self.Imax:\n",
    "            \n",
    "            \"\"\" 1) Initial step \"\"\"\n",
    "            if I == 0:\n",
    "                for j in range(np.shape(H)[0]):\n",
    "                    M[j, :] = r*H[j, :]\n",
    "            if self.trace_on == True:\n",
    "                print('M:\\n'+str(M))\n",
    "            \n",
    "            \"\"\" 2) V2C step \"\"\"\n",
    "            E = self.__calc_E(E, M)\n",
    "            if self.trace_on == True:    \n",
    "                print('E:\\n'+str(E))\n",
    "            \n",
    "            \"\"\" 3) Decoded LLR vector \"\"\"\n",
    "            l = r + np.sum(E, axis=0)\n",
    "            if self.trace_on == True:\n",
    "                print('l:\\n'+str(l))\n",
    "            \n",
    "            \"\"\" 4) NRZ mapping \"\"\"\n",
    "            l = self.__nrz(l)\n",
    "            if self.trace_on == True:\n",
    "                print('decoded:\\n'+str(l))\n",
    "            \n",
    "            \"\"\" 5) Syndrom checking \"\"\"\n",
    "            s = np.dot(H, l) %2\n",
    "            if np.prod(s == np.zeros(np.size(s))) == 1:\n",
    "                stop = True\n",
    "            else:\n",
    "                I = I + 1\n",
    "                M = self.__calc_M(M, E, r)\n",
    "        return l"
   ]
  },
  {
   "cell_type": "markdown",
   "metadata": {},
   "source": [
    "# Examples\n",
    "\n",
    "Examples is provided according to [\\[3, p.33\\]](https://www.researchgate.net/publication/228977165_Introducing_Low-Density_Parity-Check_Codes).\n",
    "\n",
    "Asume that: \n",
    "- \\[0., 0., 1., 0., 1., 1.\\] message was passed;\n",
    "- r = \\[−1.3863,1.3863,−1.3863,1.3863,−1.3863,−1.3863\\] was received from demodulator;\n",
    "- error in the first bit!\n",
    "\n",
    "<img src=\"https://habrastorage.org/webt/aw/jj/_m/awjj_mpgjpak3qvjwqgtsklvods.jpeg\" width=\"650\" />\n"
   ]
  },
  {
   "cell_type": "code",
   "execution_count": 8,
   "metadata": {},
   "outputs": [
    {
     "name": "stdout",
     "output_type": "stream",
     "text": [
      "H:\n",
      "[[1 1 0 1 0 0]\n",
      " [0 1 1 0 1 0]\n",
      " [1 0 0 0 1 1]\n",
      " [0 0 1 1 0 1]]\n",
      "M:\n",
      "[[-1.3863  1.3863 -0.      1.3863 -0.     -0.    ]\n",
      " [-0.      1.3863 -1.3863  0.     -1.3863 -0.    ]\n",
      " [-1.3863  0.     -0.      0.     -1.3863 -1.3863]\n",
      " [-0.      0.     -1.3863  1.3863 -0.     -1.3863]]\n",
      "E:\n",
      "[[ 0.75377678 -0.75377678  0.         -0.75377678  0.          0.        ]\n",
      " [ 0.          0.75377678 -0.75377678  0.         -0.75377678  0.        ]\n",
      " [ 0.75377678  0.          0.          0.          0.75377678  0.75377678]\n",
      " [ 0.          0.         -0.75377678  0.75377678  0.         -0.75377678]]\n",
      "l:\n",
      "[ 0.12125356  1.3863     -2.89385356  1.3863     -1.3863     -1.3863    ]\n",
      "decoded:\n",
      "[0. 0. 1. 0. 1. 1.]\n",
      "Decoded message:\n",
      "[0. 0. 1. 0. 1. 1.]\n"
     ]
    }
   ],
   "source": [
    "#Parity-check matrix (non-systematic form)\n",
    "H = np.array([[1, 1, 0, 1, 0, 0], \n",
    "              [0, 1, 1, 0, 1, 0], \n",
    "              [1, 0, 0, 0, 1, 1], \n",
    "              [0, 0, 1, 1, 0, 1]]) # non-systematic case\n",
    "\n",
    "# Received LLRs (the 1st bit is wrong - LDPC code should correct it):\n",
    "r = np.array([-1.3863, 1.3863, -1.3863, 1.3863, -1.3863, -1.3863])\n",
    "\n",
    "l = SPA(H).decode(r)\n",
    "print('Decoded message:\\n'+str(l))"
   ]
  },
  {
   "cell_type": "markdown",
   "metadata": {},
   "source": [
    "It works!\n",
    "\n",
    "Let's try another exemple [3, с.36 ]:\n",
    "- the same Parity-Check matrx;\n",
    "- code word is a = [0 0 1 0 1 1];\n",
    "- received: y = [−0.5, 2.5, −4.0, 5.0, −3.5, 2.5].\n",
    "\n",
    "<img src=\"https://habrastorage.org/webt/5-/mf/i5/5-mfi5eslpwp8ph5izhkfpypxgg.png\" width=\"650\"/>"
   ]
  },
  {
   "cell_type": "code",
   "execution_count": 9,
   "metadata": {},
   "outputs": [
    {
     "name": "stdout",
     "output_type": "stream",
     "text": [
      "H:\n",
      "[[1 1 0 1 0 0]\n",
      " [0 1 1 0 1 0]\n",
      " [1 0 0 0 1 1]\n",
      " [0 0 1 1 0 1]]\n",
      "Decoded message:\n",
      "[0. 0. 1. 0. 1. 1.]\n"
     ]
    }
   ],
   "source": [
    "r = np.array([-.5, 2.5, -4., 5., -3.5, 2.5])\n",
    "\n",
    "l = SPA(H, trace_on=False).decode(r)\n",
    "print('Decoded message:\\n'+str(l))"
   ]
  },
  {
   "cell_type": "markdown",
   "metadata": {},
   "source": [
    "Well done!"
   ]
  },
  {
   "cell_type": "markdown",
   "metadata": {},
   "source": [
    "## References\n",
    "\n",
    "1. R.G. Gallager Low-Density Parity-Check Codes, IRE Transactions on Information Theory, 1962\n",
    "2. D.J.C. MacKay Good Error-Correcting Codes Based on Very Sparse Matrices, IEEE Transactions on Information Theory, VOL.45, NO 2., March 1999\n",
    "3. Johnson, S. J. (2006). Introducing low-density parity-check codes. University of Newcastle, Australia, V1.\n",
    "4. Eroz M., Sun F. W., Lee L. N. DVB‐S2 low density parity check codes with near Shannon limit performance //International Journal of Satellite Communications and Networking. – 2004. – Т. 22. – №. 3. – С. 269-279."
   ]
  }
 ],
 "metadata": {
  "kernelspec": {
   "display_name": "Python 3",
   "language": "python",
   "name": "python3"
  },
  "language_info": {
   "codemirror_mode": {
    "name": "ipython",
    "version": 3
   },
   "file_extension": ".py",
   "mimetype": "text/x-python",
   "name": "python",
   "nbconvert_exporter": "python",
   "pygments_lexer": "ipython3",
   "version": "3.7.4"
  }
 },
 "nbformat": 4,
 "nbformat_minor": 2
}
